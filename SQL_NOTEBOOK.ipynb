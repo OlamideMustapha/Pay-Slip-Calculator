{
    "metadata": {
        "kernelspec": {
            "name": "SQL",
            "display_name": "SQL",
            "language": "sql"
        },
        "language_info": {
            "name": "sql",
            "version": ""
        }
    },
    "nbformat_minor": 2,
    "nbformat": 4,
    "cells": [
        {
            "cell_type": "code",
            "source": [
                "CREATE DATABASE B9DA100_DB"
            ],
            "metadata": {
                "azdata_cell_guid": "5d8c7587-0f6a-4160-b66b-e26bd5e1b511"
            },
            "outputs": [
                {
                    "output_type": "display_data",
                    "data": {
                        "text/html": "Commands completed successfully."
                    },
                    "metadata": {}
                },
                {
                    "output_type": "display_data",
                    "data": {
                        "text/html": "Total execution time: 00:00:01.886"
                    },
                    "metadata": {}
                }
            ],
            "execution_count": 1
        },
        {
            "cell_type": "code",
            "source": [
                "USE [B9DA100_DB]\r\n",
                "\r\n",
                "SELECT *\r\n",
                "FROM PaySlip"
            ],
            "metadata": {
                "azdata_cell_guid": "53fd21c3-ba07-4197-8b65-74fc4c843af9"
            },
            "outputs": [
{
    "output_type": "display_data",
    "data": {
        "text/html": "(6 rows affected)"
    },
    "metadata": {}
}, {
    "output_type": "display_data",
    "data": {
        "text/html": "Total execution time: 00:00:00.055"
    },
    "metadata": {}
}, {
    "output_type": "execute_result",
    "metadata": {},
    "execution_count": 3,
    "data": {
        "application/vnd.dataresource+json": {
            "schema": {
                "fields": [
                    {
                        "name": "Date"
                    },
                    {
                        "name": "StaffID"
                    },
                    {
                        "name": "HoursWorked"
                    },
                    {
                        "name": "Surname"
                    },
                    {
                        "name": "FirstName(s)"
                    },
                    {
                        "name": "PPSNumber"
                    },
                    {
                        "name": "StandardHours"
                    },
                    {
                        "name": "HourlyRate"
                    },
                    {
                        "name": "OvertimeRate"
                    },
                    {
                        "name": "TaxCredit"
                    },
                    {
                        "name": "StandardBand"
                    },
                    {
                        "name": "NormalHours"
                    },
                    {
                        "name": "OvertimeHours"
                    },
                    {
                        "name": "GrossPay"
                    },
                    {
                        "name": "StandardTaxRate"
                    },
                    {
                        "name": "HigherTaxRate"
                    },
                    {
                        "name": "StandardTax"
                    },
                    {
                        "name": "HigherTax"
                    },
                    {
                        "name": "TotalDeductions"
                    },
                    {
                        "name": "NetDeductions"
                    },
                    {
                        "name": "NetPay"
                    }
                ]
            },
            "data": [
                {
                    "0": "2021-04-07 00:00:00.000",
                    "1": "123456",
                    "2": "47",
                    "3": "Doe",
                    "4": "John",
                    "5": "1234567AF",
                    "6": "37",
                    "7": "20",
                    "8": "30",
                    "9": "70",
                    "10": "700",
                    "11": "740",
                    "12": "300",
                    "13": "1040",
                    "14": "20",
                    "15": "40",
                    "16": "140",
                    "17": "136",
                    "18": "276",
                    "19": "206",
                    "20": "834"
                },
                {
                    "0": "2021-11-07 00:00:00.000",
                    "1": "123456",
                    "2": "35",
                    "3": "Doe",
                    "4": "John",
                    "5": "1234567AF",
                    "6": "37",
                    "7": "20",
                    "8": "30",
                    "9": "70",
                    "10": "700",
                    "11": "700",
                    "12": "0",
                    "13": "700",
                    "14": "20",
                    "15": "40",
                    "16": "140",
                    "17": "0",
                    "18": "140",
                    "19": "70",
                    "20": "630"
                },
                {
                    "0": "2021-07-18 00:00:00.000",
                    "1": "123456",
                    "2": "3",
                    "3": "Doe",
                    "4": "John",
                    "5": "1234567AF",
                    "6": "37",
                    "7": "20",
                    "8": "30",
                    "9": "12",
                    "10": "700",
                    "11": "60",
                    "12": "0",
                    "13": "60",
                    "14": "20",
                    "15": "40",
                    "16": "12",
                    "17": "0",
                    "18": "12",
                    "19": "0",
                    "20": "60"
                },
                {
                    "0": "2021-04-07 00:00:00.000",
                    "1": "123457",
                    "2": "40",
                    "3": "Smith",
                    "4": "Mary",
                    "5": "1234589AJ",
                    "6": "0",
                    "7": "20",
                    "8": "25",
                    "9": "140",
                    "10": "900",
                    "11": "0",
                    "12": "1000",
                    "13": "1000",
                    "14": "20",
                    "15": "40",
                    "16": "180",
                    "17": "40",
                    "18": "220",
                    "19": "80",
                    "20": "920"
                },
                {
                    "0": "2021-11-07 00:00:00.000",
                    "1": "123457",
                    "2": "20",
                    "3": "Smith",
                    "4": "Mary",
                    "5": "1234589AJ",
                    "6": "0",
                    "7": "20",
                    "8": "25",
                    "9": "100",
                    "10": "900",
                    "11": "0",
                    "12": "500",
                    "13": "500",
                    "14": "20",
                    "15": "40",
                    "16": "100",
                    "17": "0",
                    "18": "100",
                    "19": "0",
                    "20": "500"
                },
                {
                    "0": "2021-07-18 00:00:00.000",
                    "1": "123457",
                    "2": "45",
                    "3": "Smith",
                    "4": "Mary",
                    "5": "1234589AJ",
                    "6": "0",
                    "7": "20",
                    "8": "25",
                    "9": "140",
                    "10": "900",
                    "11": "0",
                    "12": "1125",
                    "13": "1125",
                    "14": "20",
                    "15": "40",
                    "16": "180",
                    "17": "90",
                    "18": "270",
                    "19": "130",
                    "20": "995"
                }
            ]
        },
        "text/html": [
            "<table>",
            "<tr><th>Date</th><th>StaffID</th><th>HoursWorked</th><th>Surname</th><th>FirstName(s)</th><th>PPSNumber</th><th>StandardHours</th><th>HourlyRate</th><th>OvertimeRate</th><th>TaxCredit</th><th>StandardBand</th><th>NormalHours</th><th>OvertimeHours</th><th>GrossPay</th><th>StandardTaxRate</th><th>HigherTaxRate</th><th>StandardTax</th><th>HigherTax</th><th>TotalDeductions</th><th>NetDeductions</th><th>NetPay</th></tr>",
            "<tr><td>2021-04-07 00:00:00.000</td><td>123456</td><td>47</td><td>Doe</td><td>John</td><td>1234567AF</td><td>37</td><td>20</td><td>30</td><td>70</td><td>700</td><td>740</td><td>300</td><td>1040</td><td>20</td><td>40</td><td>140</td><td>136</td><td>276</td><td>206</td><td>834</td></tr>",
            "<tr><td>2021-11-07 00:00:00.000</td><td>123456</td><td>35</td><td>Doe</td><td>John</td><td>1234567AF</td><td>37</td><td>20</td><td>30</td><td>70</td><td>700</td><td>700</td><td>0</td><td>700</td><td>20</td><td>40</td><td>140</td><td>0</td><td>140</td><td>70</td><td>630</td></tr>",
            "<tr><td>2021-07-18 00:00:00.000</td><td>123456</td><td>3</td><td>Doe</td><td>John</td><td>1234567AF</td><td>37</td><td>20</td><td>30</td><td>12</td><td>700</td><td>60</td><td>0</td><td>60</td><td>20</td><td>40</td><td>12</td><td>0</td><td>12</td><td>0</td><td>60</td></tr>",
            "<tr><td>2021-04-07 00:00:00.000</td><td>123457</td><td>40</td><td>Smith</td><td>Mary</td><td>1234589AJ</td><td>0</td><td>20</td><td>25</td><td>140</td><td>900</td><td>0</td><td>1000</td><td>1000</td><td>20</td><td>40</td><td>180</td><td>40</td><td>220</td><td>80</td><td>920</td></tr>",
            "<tr><td>2021-11-07 00:00:00.000</td><td>123457</td><td>20</td><td>Smith</td><td>Mary</td><td>1234589AJ</td><td>0</td><td>20</td><td>25</td><td>100</td><td>900</td><td>0</td><td>500</td><td>500</td><td>20</td><td>40</td><td>100</td><td>0</td><td>100</td><td>0</td><td>500</td></tr>",
            "<tr><td>2021-07-18 00:00:00.000</td><td>123457</td><td>45</td><td>Smith</td><td>Mary</td><td>1234589AJ</td><td>0</td><td>20</td><td>25</td><td>140</td><td>900</td><td>0</td><td>1125</td><td>1125</td><td>20</td><td>40</td><td>180</td><td>90</td><td>270</td><td>130</td><td>995</td></tr>",
            "</table>"
        ]
    }
}
],
            "execution_count": 3
        }
    ]
}